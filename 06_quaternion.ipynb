{
 "cells": [
  {
   "cell_type": "code",
   "execution_count": null,
   "metadata": {},
   "outputs": [],
   "source": [
    "# default_exp core.quaternion"
   ]
  },
  {
   "cell_type": "markdown",
   "metadata": {},
   "source": [
    "# Quarternion\n",
    "> Provides a convenient mathematical notation for representing spatial orientations and rotations of elements in three dimensional space.\n",
    "\n",
    "For rotation we have $f(p) = q*p*q^{-1}$"
   ]
  },
  {
   "cell_type": "code",
   "execution_count": null,
   "metadata": {},
   "outputs": [],
   "source": [
    "#export\n",
    "import torch"
   ]
  },
  {
   "cell_type": "code",
   "execution_count": null,
   "metadata": {},
   "outputs": [],
   "source": [
    "#export\n",
    "def qrot(q, v):\n",
    "    \"\"\"\n",
    "    Rotate vector(s) v about the rotation described by quaternion(s) q.\n",
    "    Expects a tensor of shape (*, 4) for q and a tensor of shape (*, 3) for v,\n",
    "    where * denotes any number of dimensions.\n",
    "    Returns a tensor of shape (*, 3).\n",
    "    \"\"\"\n",
    "    assert q.shape[-1] == 4\n",
    "    assert v.shape[-1] == 3\n",
    "    assert q.shape[:-1] == v.shape[:-1]\n",
    "\n",
    "    qvec = q[..., 1:]\n",
    "    uv = torch.cross(qvec, v, dim=len(q.shape)-1)\n",
    "    uuv = torch.cross(qvec, uv, dim=len(q.shape)-1)\n",
    "    return (v + 2 * (q[..., :1] * uv + uuv))"
   ]
  },
  {
   "cell_type": "code",
   "execution_count": null,
   "metadata": {},
   "outputs": [],
   "source": [
    "#export\n",
    "def qinverse(q, inplace=False):\n",
    "    # We assume the quaternion to be normalized\n",
    "    if inplace:\n",
    "        q[..., 1:] *= -1\n",
    "        return q\n",
    "    else:\n",
    "        w = q[..., :1]\n",
    "        xyz = q[..., 1:]\n",
    "        return torch.cat((w, -xyz), dim=len(q.shape)-1)"
   ]
  }
 ],
 "metadata": {
  "kernelspec": {
   "display_name": "Python 3.7.12 ('fastai')",
   "language": "python",
   "name": "python3"
  }
 },
 "nbformat": 4,
 "nbformat_minor": 2
}
