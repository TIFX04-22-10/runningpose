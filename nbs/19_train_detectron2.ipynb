{
 "cells": [
  {
   "cell_type": "code",
   "execution_count": null,
   "metadata": {},
   "outputs": [],
   "source": [
    "# default_exp core.train_detectron2 "
   ]
  },
  {
   "cell_type": "code",
   "execution_count": null,
   "metadata": {},
   "outputs": [
    {
     "name": "stdout",
     "output_type": "stream",
     "text": [
      "The autoreload extension is already loaded. To reload it, use:\n",
      "  %reload_ext autoreload\n"
     ]
    }
   ],
   "source": [
    "#hide\n",
    "%load_ext autoreload\n",
    "%autoreload 2"
   ]
  },
  {
   "cell_type": "markdown",
   "metadata": {},
   "source": [
    "# Train Detectron2\n",
    "> Train a new model on our new keypoint dataset in COCO keypoint detection format "
   ]
  },
  {
   "cell_type": "code",
   "execution_count": null,
   "metadata": {},
   "outputs": [],
   "source": [
    "#export\n",
    "# Import some common libraries\n",
    "import numpy as np\n",
    "import matplotlib.pyplot as plt\n",
    "# import os, json, cv2, random\n",
    "\n",
    "# Import some common detectron2 utilities\n",
    "import detectron2\n",
    "from detectron2 import model_zoo\n",
    "from detectron2.engine import DefaultTrainer\n",
    "from detectron2.config import get_cfg\n",
    "from detectron2.utils.visualizer import Visualizer\n",
    "from detectron2.data import MetadataCatalog, DatasetCatalog\n",
    "from detectron2.data.datasets import register_coco_instances"
   ]
  },
  {
   "cell_type": "markdown",
   "metadata": {},
   "source": [
    "## Load data\n",
    "> This requires that your data is in COCO format."
   ]
  },
  {
   "cell_type": "code",
   "execution_count": null,
   "metadata": {},
   "outputs": [],
   "source": [
    "#export\n",
    "# register_coco_instances(\"my_dataset_train\", {}, \"json_annotation_train.json\", \"path/to/image/dir\")\n",
    "# register_coco_instances(\"my_dataset_val\", {}, \"json_annotation_val.json\", \"path/to/image/dir\")"
   ]
  },
  {
   "cell_type": "code",
   "execution_count": null,
   "metadata": {},
   "outputs": [],
   "source": [
    "#export\n",
    "# TODO: Add names from dataframe. \n",
    "# TODO: Update to match the new model\n",
    "keypoint_names = [\n",
    "    'RWaist', # 1\n",
    "    'LWaist', # 2\n",
    "    'RKnee',  # 3\n",
    "    'LKnee',  # 4\n",
    "    'RWrist', # 5\n",
    "    'LWrist', # 6\n",
    "    'RElbow', # 7\n",
    "    'LElbow', # 8\n",
    "    'RForefoot2', # 9\n",
    "    'RAnkleOut', # 10\n",
    "    'LForefoot2', # 11\n",
    "    'LAnkleOut', # 12 \n",
    "    'WaistBack', # 13\n",
    "    'RHand2', # 14\n",
    "    'RShoulderTop', # 15\n",
    "    'LHand2', # 16\n",
    "    'LShoulderTop', # 17\n",
    "    'SpineThoracic12', # 18\n",
    "    'SpineThoracic2', # 19\n",
    "    'HeadFront' # 20\n",
    "]\n",
    "keypoint_flip_map = [\n",
    "    ('RShoulderTop', 'LShoulderTop'), ('RElbow', 'LElbow'), ('RWrist', 'LWrist'),\n",
    "    ('RHand2', 'LHand2'), ('RWaist', 'LWaist'), ('RKnee', 'LKnee'), \n",
    "    ('RAnkleOut', 'LAnkleOut'), ('RForefoot2', 'LForefoot2')\n",
    "]\n",
    "# MetadataCatalog.get(\"my_dataset_train\").keypoint_names = keypoint_names\n",
    "# MetadataCatalog.get(\"my_dataset_train\").keypoint_flip_map = keypoint_flip_map\n",
    "# MetadataCatalog.get(\"my_dataset_train\").evaluator_type = \"coco\"\n",
    "\n",
    "# dataset_dicts = DatasetCatalog.get(\"my_dataset_train\")"
   ]
  },
  {
   "cell_type": "code",
   "execution_count": null,
   "metadata": {},
   "outputs": [],
   "source": [
    "#hide\n",
    "# To verify the data loading is correct, \n",
    "# let's visualize the annotations of randomly selected samples in the dataset:\n",
    "\n",
    "# metadata = MetadataCatalog.get(\"my_dataset_train\")\n",
    "\n",
    "# def cv2_imshow(im):\n",
    "#     im = cv2.cvtColor(im, cv2.COLOR_BGR2RGB)\n",
    "#     plt.figure(), plt.imshow(im), plt.axis('off');\n",
    "\n",
    "# for d in random.sample(dataset_dicts, 5):\n",
    "#     img = cv2.imread(d[\"file_name\"])\n",
    "#     visualizer = Visualizer(img[:, :, ::-1], metadata=metadata, scale=0.5)   \n",
    "#     vis = visualizer.draw_dataset_dict(d)\n",
    "#     cv2_imshow(vis.get_image()[:, :, ::-1])"
   ]
  },
  {
   "cell_type": "markdown",
   "metadata": {},
   "source": [
    "## Train"
   ]
  },
  {
   "cell_type": "code",
   "execution_count": null,
   "metadata": {},
   "outputs": [],
   "source": [
    "#export \n",
    "cfg = get_cfg()\n",
    "cfg.merge_from_file(model_zoo.get_config_file(\n",
    "    \"COCO-InstanceSegmentation/mask_rcnn_R_101_FPN_3x.yaml\"))\n",
    "# cfg.DATASETS.TRAIN = (\"my_dataset_train\",)\n",
    "# cfg.DATASETS.TEST = (\"my_dataset_test\")\n",
    "cfg.DATALOADER.NUM_WORKERS = 2\n",
    "# Let training initialize from model zoo\n",
    "cfg.MODEL.WEIGHTS = model_zoo.get_checkpoint_url(\n",
    "    \"COCO-InstanceSegmentation/mask_rcnn_R_101_FPN_3x.yaml\") \n",
    "cfg.SOLVER.IMS_PER_BATCH = 2\n",
    "cfg.SOLVER.BASE_LR = 0.00025  # Pick a good LR\n",
    "cfg.SOLVER.MAX_ITER = 300    # 300 iterations\n",
    "cfg.SOLVER.STEPS = []        # Do not decay learning rate\n",
    "cfg.MODEL.ROI_HEADS.BATCH_SIZE_PER_IMAGE = 128 # NOTE: Increase if possible  \n",
    "cfg.MODEL.ROI_HEADS.NUM_CLASSES = 1  # Only have one class\n",
    "cfg.MODEL.RETINANET.NUM_CLASSES = 1\n",
    "cfg.MODEL.ROI_KEYPOINT_HEAD.NUM_KEYPOINTS = 20\n",
    "# More info on below see section 1.3: https://cocodataset.org/#keypoints-eval\n",
    "cfg.TEST.KEYPOINT_OKS_SIGMAS = np.ones((20, 1), dtype=float).tolist()\n",
    "\n",
    "os.makedirs(cfg.OUTPUT_DIR, exist_ok=True)"
   ]
  },
  {
   "cell_type": "code",
   "execution_count": null,
   "metadata": {},
   "outputs": [],
   "source": [
    "# #export\n",
    "# trainer = DefaultTrainer(cfg) \n",
    "# trainer.resume_or_load(resume=False)\n",
    "# trainer.train()"
   ]
  },
  {
   "cell_type": "code",
   "execution_count": null,
   "metadata": {},
   "outputs": [],
   "source": [
    "# #hide\n",
    "# # Look at training curves in tensorboard:\n",
    "# %load_ext tensorboard\n",
    "# %tensorboard --logdir output"
   ]
  }
 ],
 "metadata": {
  "kernelspec": {
   "display_name": "Python 3.7.12 ('fastai')",
   "language": "python",
   "name": "python3"
  }
 },
 "nbformat": 4,
 "nbformat_minor": 2
}
