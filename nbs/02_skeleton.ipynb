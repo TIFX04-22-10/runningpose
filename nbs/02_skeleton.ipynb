{
 "cells": [
  {
   "cell_type": "code",
   "execution_count": null,
   "metadata": {},
   "outputs": [],
   "source": [
    "# default_exp core.skeleton"
   ]
  },
  {
   "cell_type": "code",
   "execution_count": null,
   "metadata": {},
   "outputs": [],
   "source": [
    "#hide\n",
    "%load_ext autoreload\n",
    "%autoreload 2"
   ]
  },
  {
   "cell_type": "markdown",
   "metadata": {},
   "source": [
    "# Skeleton\n",
    "> Also known as the kinematic model, this representative includes a set of keypoints (joints) like ankles, knees, shoulders, etc. "
   ]
  },
  {
   "cell_type": "code",
   "execution_count": null,
   "metadata": {},
   "outputs": [],
   "source": [
    "#export\n",
    "import numpy as np"
   ]
  },
  {
   "cell_type": "code",
   "execution_count": null,
   "metadata": {},
   "outputs": [],
   "source": [
    "#export \n",
    "class Skeleton:\n",
    "    \"\"\"\n",
    "    A skeleton model with a number of joints and limb orientation.\n",
    "\n",
    "    Attributes: \n",
    "    parents -- An array with all the parent nodes for each of the joints.\n",
    "    joints_left -- All the joints to the left of our skeleton model.\n",
    "    joints_right -- All the joints to the right of our skeleton model.\n",
    "    \"\"\"\n",
    "    def __init__(self, parents, joints_left, joints_right):\n",
    "        assert len(joints_left) == len(joints_right), \"Skeleton is not symmetric.\"\n",
    "\n",
    "        self._parents = np.array(parents)\n",
    "        self._joints_left = joints_left\n",
    "        self._joints_right = joints_right\n",
    "        self._compute_metadata()\n",
    "\n",
    "    def remove_joints(self, joints_to_remove):\n",
    "        \"\"\"\n",
    "        Remove the joints specified in 'joints_to_remove'.\n",
    "        return: A list with all the remaining nodes after removal. \n",
    "        \"\"\"\n",
    "        valid_joints = []\n",
    "        for joint in range(len(self._parents)):\n",
    "            if joint not in joints_to_remove:\n",
    "                valid_joints.append(joint)\n",
    "\n",
    "        for i in range(len(self._parents)):\n",
    "            while self._parents[i] in joints_to_remove:\n",
    "                self._parents[i] = self._parents[self._parents[i]]\n",
    "                \n",
    "        index_offsets = np.zeros(len(self._parents), dtype=int)\n",
    "        new_parents = []\n",
    "        for i, parent in enumerate(self._parents):\n",
    "            if i not in joints_to_remove:\n",
    "                new_parents.append(parent - index_offsets[parent])\n",
    "            else:\n",
    "                index_offsets[i:] += 1\n",
    "        self._parents = np.array(new_parents)\n",
    "        \n",
    "        # Re-assigns the remaining joints to left and right respectivly. \n",
    "        if self._joints_left is not None:\n",
    "            new_joints_left = []\n",
    "            for joint in self._joints_left:\n",
    "                if joint in valid_joints:\n",
    "                    new_joints_left.append(joint - index_offsets[joint])\n",
    "            self._joints_left = new_joints_left\n",
    "        if self._joints_right is not None:\n",
    "            new_joints_right = []\n",
    "            for joint in self._joints_right:\n",
    "                if joint in valid_joints:\n",
    "                    new_joints_right.append(joint - index_offsets[joint])\n",
    "            self._joints_right = new_joints_right\n",
    "\n",
    "        self._compute_metadata()\n",
    "        \n",
    "        return valid_joints\n",
    "         \n",
    "    def _compute_metadata(self):\n",
    "        self._has_children = np.zeros(len(self._parents)).astype(bool)\n",
    "        for _, parent in enumerate(self._parents):\n",
    "            if parent != -1:\n",
    "                self._has_children[parent] = True\n",
    "\n",
    "        self._children = []\n",
    "        for _, parent in enumerate(self._parents):\n",
    "            self._children.append([])\n",
    "        for i, parent in enumerate(self._parents):\n",
    "            if parent != -1:\n",
    "                self._children[parent].append(i)\n",
    "\n",
    "    # Bunch of getter methods. \n",
    "    def num_joints(self):\n",
    "        return len(self._parents)\n",
    "    \n",
    "    def parents(self):\n",
    "        return self._parents\n",
    "\n",
    "    def has_children(self):\n",
    "        return self._has_children\n",
    "\n",
    "    def children(self):\n",
    "        return self._childre\n",
    "    \n",
    "    def joints_left(self):\n",
    "        return self._joints_left\n",
    "\n",
    "    def joints_right(self):\n",
    "        return self._joints_right"
   ]
  },
  {
   "cell_type": "code",
   "execution_count": null,
   "metadata": {},
   "outputs": [
    {
     "name": "stdout",
     "output_type": "stream",
     "text": [
      "Converted 00_model.ipynb.\n",
      "Converted 01_loss.ipynb.\n",
      "Converted 02_skeleton.ipynb.\n",
      "Converted 03_mocap_dataset.ipynb.\n",
      "Converted 04_h36m_dataset.ipynb.\n",
      "Converted 05_camera.ipynb.\n",
      "Converted 06_quaternion.ipynb.\n",
      "Converted 07_utils.ipynb.\n",
      "Converted 08_generators.ipynb.\n",
      "Converted 09_custom_dataset.ipynb.\n",
      "Converted 10_visualization.ipynb.\n",
      "Converted 11_arguments.ipynb.\n",
      "Converted 12_data_utils.ipynb.\n",
      "Converted 13_prepare_data_2d_custom.ipynb.\n",
      "Converted 14_infer_video.ipynb.\n",
      "Converted index.ipynb.\n"
     ]
    }
   ],
   "source": [
    "from nbdev.export import notebook2script; notebook2script()"
   ]
  }
 ],
 "metadata": {
  "kernelspec": {
   "display_name": "Python 3.7.12 ('fastai')",
   "language": "python",
   "name": "python3"
  }
 },
 "nbformat": 4,
 "nbformat_minor": 2
}
