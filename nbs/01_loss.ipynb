{
 "cells": [
  {
   "cell_type": "code",
   "execution_count": null,
   "metadata": {},
   "outputs": [],
   "source": [
    "# default_exp core.loss"
   ]
  },
  {
   "cell_type": "code",
   "execution_count": null,
   "metadata": {},
   "outputs": [
    {
     "name": "stdout",
     "output_type": "stream",
     "text": [
      "The autoreload extension is already loaded. To reload it, use:\n",
      "  %reload_ext autoreload\n"
     ]
    }
   ],
   "source": [
    "#hide\n",
    "%load_ext autoreload\n",
    "%autoreload 2"
   ]
  },
  {
   "cell_type": "markdown",
   "metadata": {},
   "source": [
    "# Loss\n",
    "> Different loss functions for the Temporal Model."
   ]
  },
  {
   "cell_type": "code",
   "execution_count": null,
   "metadata": {},
   "outputs": [],
   "source": [
    "#export\n",
    "import numpy as np\n",
    "import torch"
   ]
  },
  {
   "cell_type": "markdown",
   "metadata": {},
   "source": [
    "### Mean per-joint position error\n",
    "> Also known as the Euclidean distance:\n",
    "\n",
    "Let $p$ be the predicted vector and $q$ be the ground truth for each joint, where $p,q \\in \\mathbb{R}^3$ then\n",
    "$$ MPJPE(p,q) = \\sqrt{(p_1 - q_1)^2 + (p_2 - q_2)^2 + (p_3 - q_3)^2}$$   "
   ]
  },
  {
   "cell_type": "code",
   "execution_count": null,
   "metadata": {},
   "outputs": [],
   "source": [
    "#export\n",
    "def mpjpe(predicted, target):\n",
    "    \"\"\"\n",
    "    Mean per-joint position error (i.e mean Euclidean distance),\n",
    "    often referred to as \"Protocol #1\" in many papers.\n",
    "    \"\"\"\n",
    "    \n",
    "    assert predicted.shape == target.shape\n",
    "    return torch.mean(torch.norm(predicted - target, dim=len(target.shape)-1))"
   ]
  },
  {
   "cell_type": "markdown",
   "metadata": {},
   "source": [
    "### Pose error: P-MPJPE\n",
    "> Reports the error after alignment with the ground truth in translation, rotation, and scale."
   ]
  },
  {
   "cell_type": "code",
   "execution_count": null,
   "metadata": {},
   "outputs": [],
   "source": [
    "#export\n",
    "def p_mpjpe(predicted, target):\n",
    "    \"\"\"\n",
    "    Pose error: MPJPE after rigid alignment (scale, rotation, and translation),\n",
    "    often referred to as \"Protocol #2\" in many papers.\n",
    "    \"\"\"\n",
    "\n",
    "    assert predicted.shape == target.shape\n",
    "    \n",
    "    muX = np.mean(target, axis=1, keepdims=True)\n",
    "    muY = np.mean(predicted, axis=1, keepdims=True)\n",
    "    # Centering around the mean for the prediction and target vector. \n",
    "    # Calculates the L2-norm and divides the data with it. \n",
    "    X0 = target - muX\n",
    "    Y0 = predicted - muY\n",
    "    normX = np.sqrt(np.sum(X0**2, axis=(1, 2), keepdims=True))\n",
    "    normY = np.sqrt(np.sum(Y0**2, axis=(1, 2), keepdims=True))\n",
    "    X0 /= normX\n",
    "    Y0 /= normY\n",
    "\n",
    "    H = np.matmul(X0.transpose(0, 2, 1), Y0)\n",
    "    U, s, Vt = np.linalg.svd(H)\n",
    "    V = Vt.transpose(0, 2, 1)\n",
    "    R = np.matmul(V, U.transpose(0, 2, 1))\n",
    "\n",
    "    # Avoid improper rotations (reflections), i.e. rotations with det(R) = -1.\n",
    "    sign_detR = np.sign(np.expand_dims(np.linalg.det(R), axis=1))\n",
    "    V[:, :, -1] *= sign_detR\n",
    "    s[:, -1] *= sign_detR.flatten()\n",
    "    R = np.matmul(V, U.transpose(0, 2, 1)) # Rotation.\n",
    "\n",
    "    tr = np.expand_dims(np.sum(s, axis=1, keepdims=True), axis=2)\n",
    "\n",
    "    a = tr * normX / normY # Scale.\n",
    "    t = muX - a*np.matmul(muY, R) # Translation.\n",
    "    \n",
    "    # Perform rigid transformation on the input.\n",
    "    predicted_aligned = a*np.matmul(predicted, R) + t\n",
    "    \n",
    "    # Return MPJPE.\n",
    "    return np.mean(np.linalg.norm(\n",
    "        predicted_aligned - target, axis=len(target.shape)-1))\n"
   ]
  },
  {
   "cell_type": "markdown",
   "metadata": {},
   "source": [
    "### Mean per joint velocity error\n",
    "> Mean Euclidian distance of the 1:st derivative."
   ]
  },
  {
   "cell_type": "code",
   "execution_count": null,
   "metadata": {},
   "outputs": [],
   "source": [
    "#export\n",
    "def mean_velocity_error(predicted, target):\n",
    "    \"\"\"\n",
    "    Mean per-joint velocity error \n",
    "    (i.e. mean Euclidean distance of the 1st derivative).\n",
    "    \"\"\"\n",
    "    assert predicted.shape == target.shape\n",
    "    \n",
    "    velocity_predicted = np.diff(predicted, axis=0)\n",
    "    velocity_target = np.diff(target, axis=0)\n",
    "    \n",
    "    return np.mean(np.linalg.norm(\n",
    "        velocity_predicted - velocity_target, axis=len(target.shape)-1))"
   ]
  },
  {
   "cell_type": "code",
   "execution_count": null,
   "metadata": {},
   "outputs": [],
   "source": [
    "#export\n",
    "def weighted_mpjpe(predicted, target, w):\n",
    "    \"\"\"\n",
    "    Weighted mean per-joint position error (i.e. mean Euclidean distance)\n",
    "    \"\"\"\n",
    "    assert predicted.shape == target.shape\n",
    "    assert w.shape[0] == predicted.shape[0]\n",
    "    return torch.mean(\n",
    "        w * torch.norm(predicted - target, dim=len(target.shape)-1))"
   ]
  },
  {
   "cell_type": "code",
   "execution_count": null,
   "metadata": {},
   "outputs": [],
   "source": [
    "#export\n",
    "def n_mpjpe(predicted, target):\n",
    "    \"\"\"\n",
    "    Normalized MPJPE (scale only), adapted from:\n",
    "    https://github.com/hrhodin/UnsupervisedGeometryAwareRepresentationLearning/blob/master/losses/poses.py\n",
    "    \"\"\"\n",
    "    assert predicted.shape == target.shape\n",
    "    \n",
    "    norm_predicted = torch.mean(torch.sum(\n",
    "        predicted**2, dim=3, keepdim=True), dim=2, keepdim=True)\n",
    "    norm_target = torch.mean(torch.sum(\n",
    "        target*predicted, dim=3, keepdim=True), dim=2, keepdim=True)\n",
    "    scale = norm_target / norm_predicted\n",
    "    return mpjpe(scale * predicted, target)\n"
   ]
  },
  {
   "cell_type": "code",
   "execution_count": null,
   "metadata": {},
   "outputs": [
    {
     "name": "stdout",
     "output_type": "stream",
     "text": [
      "Converted 00_model.ipynb.\n",
      "Converted 01_loss.ipynb.\n",
      "Converted 02_skeleton.ipynb.\n",
      "Converted 03_mocap_dataset.ipynb.\n",
      "Converted 04_h36m_dataset.ipynb.\n",
      "Converted 05_camera.ipynb.\n",
      "Converted 06_quaternion.ipynb.\n",
      "Converted 07_utils.ipynb.\n",
      "Converted 08_generators.ipynb.\n",
      "Converted 09_custom_dataset.ipynb.\n",
      "Converted 10_visualization.ipynb.\n",
      "Converted 11_arguments.ipynb.\n",
      "Converted 12_data_utils.ipynb.\n",
      "Converted 13_prepare_data_2d_custom.ipynb.\n",
      "Converted 14_infer_video.ipynb.\n",
      "Converted 15_prepare_data_COCO.ipynb.\n",
      "Converted 16_pycococreatortools.ipynb.\n",
      "Converted 17_format_qtmdata.ipynb.\n",
      "Converted 18_runningpose_dataset.ipynb.\n",
      "Converted 19_train_detectron2.ipynb.\n",
      "Converted 20_transfer_model.ipynb.\n",
      "Converted 21_prepare_data_3d.ipynb.\n",
      "Converted index.ipynb.\n"
     ]
    }
   ],
   "source": [
    "from nbdev.export import notebook2script; notebook2script()"
   ]
  }
 ],
 "metadata": {
  "kernelspec": {
   "display_name": "Python 3.7.12 ('fastai')",
   "language": "python",
   "name": "python3"
  }
 },
 "nbformat": 4,
 "nbformat_minor": 2
}
