{
 "cells": [
  {
   "cell_type": "code",
   "execution_count": null,
   "metadata": {},
   "outputs": [],
   "source": [
    "# default_exp core.arguments"
   ]
  },
  {
   "cell_type": "markdown",
   "metadata": {},
   "source": [
    "# Arguments\n",
    "> Using argparse for user friendly implemention and controll."
   ]
  },
  {
   "cell_type": "code",
   "execution_count": null,
   "metadata": {},
   "outputs": [],
   "source": [
    "#export\n",
    "import argparse"
   ]
  },
  {
   "cell_type": "code",
   "execution_count": null,
   "metadata": {},
   "outputs": [],
   "source": [
    "#export\n",
    "def parse_args():\n",
    "    parser = argparse.ArgumentParser(description='Training script')\n",
    "\n",
    "    # General arguments\n",
    "    parser.add_argument('-d', '--dataset', default='h36m', type=str, metavar='NAME', help='target dataset') # h36m or humaneva\n",
    "    parser.add_argument('-k', '--keypoints', default='cpn_ft_h36m_dbb', type=str, metavar='NAME', help='2D detections to use')\n",
    "    parser.add_argument('-str', '--subjects-train', default='S1,S5,S6,S7,S8', type=str, metavar='LIST',\n",
    "                        help='training subjects separated by comma')\n",
    "    parser.add_argument('-ste', '--subjects-test', default='S9,S11', type=str, metavar='LIST', help='test subjects separated by comma')\n",
    "    parser.add_argument('-sun', '--subjects-unlabeled', default='', type=str, metavar='LIST',\n",
    "                        help='unlabeled subjects separated by comma for self-supervision')\n",
    "    parser.add_argument('-a', '--actions', default='*', type=str, metavar='LIST',\n",
    "                        help='actions to train/test on, separated by comma, or * for all')\n",
    "    parser.add_argument('-c', '--checkpoint', default='checkpoint', type=str, metavar='PATH',\n",
    "                        help='checkpoint directory')\n",
    "    parser.add_argument('--checkpoint-frequency', default=10, type=int, metavar='N',\n",
    "                        help='create a checkpoint every N epochs')\n",
    "    parser.add_argument('-r', '--resume', default='', type=str, metavar='FILENAME',\n",
    "                        help='checkpoint to resume (file name)')\n",
    "    parser.add_argument('--evaluate', default='', type=str, metavar='FILENAME', help='checkpoint to evaluate (file name)')\n",
    "    parser.add_argument('--render', action='store_true', help='visualize a particular video')\n",
    "    parser.add_argument('--by-subject', action='store_true', help='break down error by subject (on evaluation)')\n",
    "    parser.add_argument('--export-training-curves', action='store_true', help='save training curves as .png images')\n",
    "\n",
    "    # Model arguments\n",
    "    parser.add_argument('-s', '--stride', default=1, type=int, metavar='N', help='chunk size to use during training')\n",
    "    parser.add_argument('-e', '--epochs', default=60, type=int, metavar='N', help='number of training epochs')\n",
    "    parser.add_argument('-b', '--batch-size', default=1024, type=int, metavar='N', help='batch size in terms of predicted frames')\n",
    "    parser.add_argument('-drop', '--dropout', default=0.25, type=float, metavar='P', help='dropout probability')\n",
    "    parser.add_argument('-lr', '--learning-rate', default=0.001, type=float, metavar='LR', help='initial learning rate')\n",
    "    parser.add_argument('-lrd', '--lr-decay', default=0.95, type=float, metavar='LR', help='learning rate decay per epoch')\n",
    "    parser.add_argument('-no-da', '--no-data-augmentation', dest='data_augmentation', action='store_false',\n",
    "                        help='disable train-time flipping')\n",
    "    parser.add_argument('-no-tta', '--no-test-time-augmentation', dest='test_time_augmentation', action='store_false',\n",
    "                        help='disable test-time flipping')\n",
    "    parser.add_argument('-arc', '--architecture', default='3,3,3', type=str, metavar='LAYERS', help='filter widths separated by comma')\n",
    "    parser.add_argument('--causal', action='store_true', help='use causal convolutions for real-time processing')\n",
    "    parser.add_argument('-ch', '--channels', default=1024, type=int, metavar='N', help='number of channels in convolution layers')\n",
    "\n",
    "    # Experimental\n",
    "    parser.add_argument('--subset', default=1, type=float, metavar='FRACTION', help='reduce dataset size by fraction')\n",
    "    parser.add_argument('--downsample', default=1, type=int, metavar='FACTOR', help='downsample frame rate by factor (semi-supervised)')\n",
    "    parser.add_argument('--warmup', default=1, type=int, metavar='N', help='warm-up epochs for semi-supervision')\n",
    "    parser.add_argument('--no-eval', action='store_true', help='disable epoch evaluation while training (small speed-up)')\n",
    "    parser.add_argument('--dense', action='store_true', help='use dense convolutions instead of dilated convolutions')\n",
    "    parser.add_argument('--disable-optimizations', action='store_true', help='disable optimized model for single-frame predictions')\n",
    "    parser.add_argument('--linear-projection', action='store_true', help='use only linear coefficients for semi-supervised projection')\n",
    "    parser.add_argument('--no-bone-length', action='store_false', dest='bone_length_term',\n",
    "                        help='disable bone length term in semi-supervised settings')\n",
    "    parser.add_argument('--no-proj', action='store_true', help='disable projection for semi-supervised setting')\n",
    "    \n",
    "    # Visualization\n",
    "    parser.add_argument('--viz-subject', type=str, metavar='STR', help='subject to render')\n",
    "    parser.add_argument('--viz-action', type=str, metavar='STR', help='action to render')\n",
    "    parser.add_argument('--viz-camera', type=int, default=0, metavar='N', help='camera to render')\n",
    "    parser.add_argument('--viz-video', type=str, metavar='PATH', help='path to input video')\n",
    "    parser.add_argument('--viz-skip', type=int, default=0, metavar='N', help='skip first N frames of input video')\n",
    "    parser.add_argument('--viz-output', type=str, metavar='PATH', help='output file name (.gif or .mp4)')\n",
    "    parser.add_argument('--viz-export', type=str, metavar='PATH', help='output file name for coordinates')\n",
    "    parser.add_argument('--viz-bitrate', type=int, default=3000, metavar='N', help='bitrate for mp4 videos')\n",
    "    parser.add_argument('--viz-no-ground-truth', action='store_true', help='do not show ground-truth poses')\n",
    "    parser.add_argument('--viz-limit', type=int, default=-1, metavar='N', help='only render first N frames')\n",
    "    parser.add_argument('--viz-downsample', type=int, default=1, metavar='N', help='downsample FPS by a factor N')\n",
    "    parser.add_argument('--viz-size', type=int, default=5, metavar='N', help='image size')\n",
    "    \n",
    "    parser.set_defaults(bone_length_term=True)\n",
    "    parser.set_defaults(data_augmentation=True)\n",
    "    parser.set_defaults(test_time_augmentation=True)\n",
    "    \n",
    "    args = parser.parse_args()\n",
    "    # Check invalid configuration\n",
    "    if args.resume and args.evaluate:\n",
    "        print('Invalid flags: --resume and --evaluate cannot be set at the same time')\n",
    "        exit()\n",
    "        \n",
    "    if args.export_training_curves and args.no_eval:\n",
    "        print('Invalid flags: --export-training-curves and --no-eval cannot be set at the same time')\n",
    "        exit()\n",
    "\n",
    "    return args"
   ]
  }
 ],
 "metadata": {
  "kernelspec": {
   "display_name": "Python 3.7.12 ('fastai')",
   "language": "python",
   "name": "python3"
  }
 },
 "nbformat": 4,
 "nbformat_minor": 2
}
