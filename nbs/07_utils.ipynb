{
 "cells": [
  {
   "cell_type": "code",
   "execution_count": null,
   "metadata": {},
   "outputs": [],
   "source": [
    "# default_exp core.utils"
   ]
  },
  {
   "cell_type": "code",
   "execution_count": null,
   "metadata": {},
   "outputs": [],
   "source": [
    "#hide\n",
    "%load_ext autoreload\n",
    "%autoreload 2"
   ]
  },
  {
   "cell_type": "markdown",
   "metadata": {},
   "source": [
    "# Utility\n",
    "> Utility functions module"
   ]
  },
  {
   "cell_type": "code",
   "execution_count": null,
   "metadata": {},
   "outputs": [],
   "source": [
    "#export\n",
    "import torch\n",
    "import numpy as np\n",
    "import hashlib"
   ]
  },
  {
   "cell_type": "code",
   "execution_count": null,
   "metadata": {},
   "outputs": [],
   "source": [
    "#export\n",
    "def wrap(func, *args, unsqueeze=False):\n",
    "    \"\"\"\n",
    "    Wrap a torch function so it can be called with NumPy arrays.\n",
    "    Input and return types are seamlessly converted.\n",
    "    \"\"\"\n",
    "    \n",
    "    # Convert input types where applicable\n",
    "    args = list(args)\n",
    "    for i, arg in enumerate(args):\n",
    "        if type(arg) == np.ndarray:\n",
    "            args[i] = torch.from_numpy(arg)\n",
    "            if unsqueeze:\n",
    "                args[i] = args[i].unsqueeze(0)\n",
    "    \n",
    "    result = func(*args)\n",
    "\n",
    "    # Convert output types where applicable\n",
    "    if isinstance(result, tuple):\n",
    "        result = list(result)\n",
    "        for i, res in enumerate(result):\n",
    "            if type(res) == torch.Tensor:\n",
    "                if unsqueeze:\n",
    "                    res = res.squeeze(0)\n",
    "                result[i] = res.numpy()\n",
    "        return tuple(result)\n",
    "    elif type(result) == torch.Tensor:\n",
    "        if unsqueeze:\n",
    "            result = result.squeeze(0)\n",
    "        return result.numpy()\n",
    "    else:\n",
    "        return result"
   ]
  },
  {
   "cell_type": "code",
   "execution_count": null,
   "metadata": {},
   "outputs": [],
   "source": [
    "#export\n",
    "def deterministic_random(min_value, max_value, data):\n",
    "    \"\"\"Pseudorandom generator that returns an int over some given interval and data.\"\"\"\n",
    "    digest = hashlib.sha256(data.encode()).digest()\n",
    "    raw_value = int.from_bytes(digest[:4], byteorder='little', signed=False)\n",
    "    return int(raw_value / (2**32 - 1) * (max_value - min_value)) + min_value"
   ]
  },
  {
   "cell_type": "code",
   "execution_count": null,
   "metadata": {},
   "outputs": [
    {
     "name": "stdout",
     "output_type": "stream",
     "text": [
      "Converted 00_model.ipynb.\n",
      "Converted 01_loss.ipynb.\n",
      "Converted 02_skeleton.ipynb.\n",
      "Converted 03_mocap_dataset.ipynb.\n",
      "Converted 04_h36m_dataset.ipynb.\n",
      "Converted 05_camera.ipynb.\n",
      "Converted 06_quaternion.ipynb.\n",
      "Converted 07_utils.ipynb.\n",
      "Converted 08_generators.ipynb.\n",
      "Converted 09_custom_dataset.ipynb.\n",
      "Converted 10_visualization.ipynb.\n",
      "Converted 11_arguments.ipynb.\n",
      "Converted 12_data_utils.ipynb.\n",
      "Converted 13_prepare_data_2d_custom.ipynb.\n",
      "Converted 14_infer_video.ipynb.\n",
      "Converted index.ipynb.\n"
     ]
    }
   ],
   "source": [
    "from nbdev.export import notebook2script; notebook2script()"
   ]
  }
 ],
 "metadata": {
  "kernelspec": {
   "display_name": "Python 3.7.12 ('fastai')",
   "language": "python",
   "name": "python3"
  }
 },
 "nbformat": 4,
 "nbformat_minor": 2
}
