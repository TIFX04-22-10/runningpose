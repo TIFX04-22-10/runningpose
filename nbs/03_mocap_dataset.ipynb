{
 "cells": [
  {
   "cell_type": "code",
   "execution_count": null,
   "metadata": {},
   "outputs": [],
   "source": [
    "# default_exp core.mocap_dataset"
   ]
  },
  {
   "cell_type": "markdown",
   "metadata": {},
   "source": [
    "# MocapDataset\n",
    "> Base class for motion capture datasets."
   ]
  },
  {
   "cell_type": "code",
   "execution_count": null,
   "metadata": {},
   "outputs": [],
   "source": [
    "#export\n",
    "import numpy as np\n",
    "from runningpose.core.skeleton import Skeleton"
   ]
  },
  {
   "cell_type": "code",
   "execution_count": null,
   "metadata": {},
   "outputs": [],
   "source": [
    "#export\n",
    "class MocapDataset:\n",
    "    \"\"\"\n",
    "    Motion capture dataset base class. \n",
    "\n",
    "    Attributes:\n",
    "    skeleton -- A skeleton model also known as a kinematic model. \n",
    "    fps -- Frames per second.\n",
    "    data -- Must be filled by subclass.\n",
    "    cameras -- Must be filled by subclass. \n",
    "    \"\"\"\n",
    "\n",
    "    def __init__(self, fps, skeleton):\n",
    "        self._skeleton = skeleton\n",
    "        self._fps = fps\n",
    "        self._data = None\n",
    "        self._cameras = None\n",
    "    \n",
    "    def remove_joints(self, joints_to_remove):\n",
    "        \"\"\"Removes specific joints and re-asigns the remaining joints in the dataset.\"\"\"\n",
    "        kept_joints = self._skeleton.remove_joints(joints_to_remove)\n",
    "        for subject in self._data.keys():\n",
    "            for action in self._data[subject].keys():\n",
    "                sub_act_data = self._data[subject][action]\n",
    "                if \"positions\" in sub_act_data:\n",
    "                    sub_act_data[\"positions\"] = sub_act_data[\"positions\"][:, kept_joints]\n",
    "\n",
    "    # Bunch of getters.\n",
    "    def __getitem__(self, key):\n",
    "        return self._data[key]\n",
    "    \n",
    "    def subjects(self):\n",
    "        return self._data.keys()\n",
    "    \n",
    "    def fps(self):\n",
    "        return self._fps\n",
    "    \n",
    "    def skeleton(self):\n",
    "        return self._skeleton\n",
    "    \n",
    "    def cameras(self):\n",
    "        return self._cameras"
   ]
  }
 ],
 "metadata": {
  "kernelspec": {
   "display_name": "Python 3.7.12 ('fastai')",
   "language": "python",
   "name": "python3"
  }
 },
 "nbformat": 4,
 "nbformat_minor": 2
}
