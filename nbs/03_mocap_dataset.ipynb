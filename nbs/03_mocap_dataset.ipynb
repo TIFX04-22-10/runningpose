{
 "cells": [
  {
   "cell_type": "code",
   "execution_count": null,
   "metadata": {},
   "outputs": [],
   "source": [
    "# default_exp core.mocap_dataset"
   ]
  },
  {
   "cell_type": "code",
   "execution_count": null,
   "metadata": {},
   "outputs": [
    {
     "name": "stdout",
     "output_type": "stream",
     "text": [
      "The autoreload extension is already loaded. To reload it, use:\n",
      "  %reload_ext autoreload\n"
     ]
    }
   ],
   "source": [
    "#hide\n",
    "%load_ext autoreload\n",
    "%autoreload 2"
   ]
  },
  {
   "cell_type": "markdown",
   "metadata": {},
   "source": [
    "# MocapDataset\n",
    "> Base class for motion capture datasets."
   ]
  },
  {
   "cell_type": "code",
   "execution_count": null,
   "metadata": {},
   "outputs": [],
   "source": [
    "#export\n",
    "import numpy as np\n",
    "from runningpose.core.skeleton import Skeleton"
   ]
  },
  {
   "cell_type": "code",
   "execution_count": null,
   "metadata": {},
   "outputs": [],
   "source": [
    "#export\n",
    "class MocapDataset:\n",
    "    \"\"\"\n",
    "    Motion capture dataset base class. \n",
    "\n",
    "    Attributes:\n",
    "    skeleton -- A skeleton model also known as a kinematic model. \n",
    "    fps -- Frames per second.\n",
    "    data -- Must be filled by subclass.\n",
    "    cameras -- Must be filled by subclass. \n",
    "    \"\"\"\n",
    "\n",
    "    def __init__(self, fps, skeleton):\n",
    "        self._skeleton = skeleton\n",
    "        self._fps = fps\n",
    "        self._data = None\n",
    "        self._cameras = None\n",
    "    \n",
    "    def remove_joints(self, joints_to_remove):\n",
    "        \"\"\"\n",
    "        Removes specific joints and re-asigns the remaining joints in \n",
    "        the dataset.\n",
    "        \"\"\"\n",
    "        kept_joints = self._skeleton.remove_joints(joints_to_remove)\n",
    "        for subject in self._data.keys():\n",
    "            for action in self._data[subject].keys():\n",
    "                data = self._data[subject][action]\n",
    "                if \"positions\" in data:\n",
    "                    data[\"positions\"] = data[\"positions\"][:, kept_joints]\n",
    "\n",
    "    # Bunch of getters.\n",
    "    def __getitem__(self, key):\n",
    "        return self._data[key]\n",
    "    \n",
    "    def subjects(self):\n",
    "        return self._data.keys()\n",
    "    \n",
    "    def fps(self):\n",
    "        return self._fps\n",
    "    \n",
    "    def skeleton(self):\n",
    "        return self._skeleton\n",
    "    \n",
    "    def cameras(self):\n",
    "        return self._cameras"
   ]
  },
  {
   "cell_type": "code",
   "execution_count": null,
   "metadata": {},
   "outputs": [
    {
     "name": "stdout",
     "output_type": "stream",
     "text": [
      "Converted 00_model.ipynb.\n",
      "Converted 01_loss.ipynb.\n",
      "Converted 02_skeleton.ipynb.\n",
      "Converted 03_mocap_dataset.ipynb.\n",
      "Converted 04_h36m_dataset.ipynb.\n",
      "Converted 05_camera.ipynb.\n",
      "Converted 06_quaternion.ipynb.\n",
      "Converted 07_utils.ipynb.\n",
      "Converted 08_generators.ipynb.\n",
      "Converted 09_custom_dataset.ipynb.\n",
      "Converted 10_visualization.ipynb.\n",
      "Converted 11_arguments.ipynb.\n",
      "Converted 12_data_utils.ipynb.\n",
      "Converted 13_prepare_data_2d_custom.ipynb.\n",
      "Converted 14_infer_video.ipynb.\n",
      "Converted 15_prepare_data_COCO.ipynb.\n",
      "Converted 16_pycococreatortools.ipynb.\n",
      "Converted 17_format_qtmdata.ipynb.\n",
      "Converted index.ipynb.\n"
     ]
    }
   ],
   "source": [
    "from nbdev.export import notebook2script; notebook2script()"
   ]
  }
 ],
 "metadata": {
  "kernelspec": {
   "display_name": "Python 3.7.12 ('fastai')",
   "language": "python",
   "name": "python3"
  }
 },
 "nbformat": 4,
 "nbformat_minor": 2
}
