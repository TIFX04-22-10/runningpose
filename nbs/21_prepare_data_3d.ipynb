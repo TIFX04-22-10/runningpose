{
 "cells": [
  {
   "cell_type": "code",
   "execution_count": null,
   "metadata": {},
   "outputs": [],
   "source": [
    "# default_exp data.prepare_data_3d"
   ]
  },
  {
   "cell_type": "code",
   "execution_count": null,
   "metadata": {},
   "outputs": [],
   "source": [
    "#hide\n",
    "%load_ext autoreload\n",
    "%autoreload 2"
   ]
  },
  {
   "cell_type": "markdown",
   "metadata": {},
   "source": [
    "# Prepare 3D dataset\n",
    "> Converts 3D data to camera coordinates so that we can train our model"
   ]
  },
  {
   "cell_type": "code",
   "execution_count": null,
   "metadata": {},
   "outputs": [],
   "source": [
    "#export\n",
    "import argparse\n",
    "import os\n",
    "from glob import glob\n",
    "\n",
    "import numpy as np\n",
    "import pandas as pd"
   ]
  },
  {
   "cell_type": "code",
   "execution_count": null,
   "metadata": {},
   "outputs": [],
   "source": [
    "#exports\n",
    "def parse_args():\n",
    "    '''Parses and returns arguments for the command line interface'''\n",
    "    parser = argparse.ArgumentParser(description='3D dataset creator')\n",
    "    parser.add_argument(\n",
    "        '-i', '--input', type=str, default='',\n",
    "        metavar='PATH', help='detections directory'\n",
    "    )\n",
    "    parser.add_argument(\n",
    "        '-o', '--output', type=str, default='', \n",
    "        metavar='PATH', help='output suffix for 3D detections'\n",
    "    )\n",
    "    parser.add_argument(\n",
    "        '-c', '--camera',\n",
    "        help='which misqus camera (1, 2, 3) to use in runningpose dataset',\n",
    "        type=int,\n",
    "        choices=range(1, 4)\n",
    "    )\n",
    "\n",
    "    return parser.parse_args()"
   ]
  },
  {
   "cell_type": "markdown",
   "metadata": {},
   "source": [
    "#### Helpers"
   ]
  },
  {
   "cell_type": "code",
   "execution_count": null,
   "metadata": {},
   "outputs": [],
   "source": [
    "#export\n",
    "# Need to define this here aswell since relative imports are a thing\n",
    "def world_to_camera_miqus(P, R, T):\n",
    "  \"\"\"\n",
    "  Convert points from world to camera coordinates\n",
    "  Args\n",
    "    P: Nx3 3d points in world coordinates\n",
    "    R: 3x3 Camera rotation matrix\n",
    "    T: 3x1 Camera translation parameters\n",
    "  Returns\n",
    "    X_cam: Nx3 3d points in camera coordinates\n",
    "  \"\"\"\n",
    "\n",
    "  assert len(P.shape) == 2\n",
    "  assert P.shape[1] == 3\n",
    "\n",
    "  X_cam = R.dot( P.T - T ) # rotate and translate\n",
    "\n",
    "  return X_cam.T\n",
    "\n",
    "runningpose_cameras_extrinsic_params = [\n",
    "    {   # Miqus video camera 1\n",
    "        'rotation': np.array([\n",
    "            [0.735354, 0.677463, 0.017256], \n",
    "            [-0.104186, 0.087855, 0.990670], \n",
    "            [0.669627, -0.730291, 0.135186]\n",
    "        ]),\n",
    "        'translation': [6643.345215, -2730.456543, 1153.752808],\n",
    "    },\n",
    "    {   # Miqus video camera 2\n",
    "        'rotation': np.array([\n",
    "            [0.997871, -0.064902, 0.006349],\n",
    "            [-0.006020, 0.005255, 0.999968],\n",
    "            [-0.064933, -0.997878 , 0.004853]\n",
    "        ]),\n",
    "        'translation': [-697.331482, -2968.999268, 1121.579468],\n",
    "    },\n",
    "    {   # Miqus video camera 3\n",
    "        'rotation': np.array([\n",
    "            [-0.641654, 0.766908, 0.011533],\n",
    "            [-0.137808, -0.130067, 0.981882],\n",
    "            [0.754513, 0.628438, 0.189144]\n",
    "        ]),\n",
    "        'translation': [14351.271484, 3795.722412, 1504.888672],\n",
    "    },\n",
    "]"
   ]
  },
  {
   "cell_type": "code",
   "execution_count": null,
   "metadata": {},
   "outputs": [],
   "source": [
    "#exports\n",
    "def convert_to_camera(filename, cam):\n",
    "    '''\n",
    "    Converts the csv file with 3D world coordinates to 3D camera coordinates.\n",
    "\n",
    "    Returns: A numpy array with shape: (num_frames, num_keypoints, dimension)\n",
    "    '''\n",
    "    # TODO: check the 3D data so it doesnt have a unnamed column\n",
    "    print('Processing {}'.format(filename))\n",
    "    # Load the 3D world coordinates data\n",
    "    data_3D_world = pd.read_csv(filename)\n",
    "    # Get camera parameters.\n",
    "    R = runningpose_cameras_extrinsic_params[cam-1]['rotation']\n",
    "    T = np.array([runningpose_cameras_extrinsic_params[cam-1]['translation']]).T\n",
    "    # Extract a keypoint column and calculate it to 3D camera coordinates\n",
    "    data_3D_camera = []\n",
    "    for column in data_3D_world:\n",
    "        col_data = data_3D_world[column].values\n",
    "        x_data = col_data[0::3]\n",
    "        y_data = col_data[1::3]\n",
    "        z_data = col_data[2::3]\n",
    "        keypdata_world = np.array([x_data, y_data, z_data]).T\n",
    "        data_3D_camera.append(world_to_camera_miqus(keypdata_world, R, T))\n",
    "    \n",
    "    # Convert to a array and transpose so that it matches our 2D data input\n",
    "    data_3D_camera = np.array(data_3D_camera).transpose(1, 0, 2)\n",
    "\n",
    "    return data_3D_camera"
   ]
  },
  {
   "cell_type": "markdown",
   "metadata": {},
   "source": [
    "#### Main script"
   ]
  },
  {
   "cell_type": "code",
   "execution_count": null,
   "metadata": {},
   "outputs": [],
   "source": [
    "#exports\n",
    "def main(args):\n",
    "    '''\n",
    "    Creates a 3D camera coordinates dataset for data collected with \n",
    "    miqus cameras. \n",
    "\n",
    "    Returns: Dictionary with all the 3D data for each run. \n",
    "    '''\n",
    "    if not args.input:\n",
    "        print('Please specify the input directory')\n",
    "        exit(0)\n",
    "        \n",
    "    if not args.output:\n",
    "        print('Please specify an output suffix (e.g. detectron_pt_coco)')\n",
    "        exit(0)\n",
    "    \n",
    "    if not args.camera:\n",
    "        print()\n",
    "\n",
    "    print('Parsing 3D data from', args.input)\n",
    "\n",
    "    output = {}\n",
    "    output_prefix_3d = 'data_3d_'\n",
    "    file_list = glob(args.input + '/*.csv')\n",
    "    for f in file_list:\n",
    "        canonical_name = os.path.splitext(os.path.basename(f))[0]\n",
    "        data_3D_camera = convert_to_camera(f, args.camera)\n",
    "        output[canonical_name] = data_3D_camera\n",
    "    \n",
    "    print('Saving...')\n",
    "    np.savez_compressed(\n",
    "        output_prefix_3d + args.output, positions_3d=output\n",
    "    )"
   ]
  },
  {
   "cell_type": "code",
   "execution_count": null,
   "metadata": {},
   "outputs": [],
   "source": [
    "#export \n",
    "try: from nbdev.imports import IN_NOTEBOOK\n",
    "except: IN_NOTEBOOK=False\n",
    "\n",
    "if __name__ == '__main__' and not IN_NOTEBOOK:\n",
    "    if os.path.basename(os.getcwd()) != 'data':\n",
    "        print('This script must be launched from the \"data\" directory')\n",
    "        exit(0)\n",
    "    \n",
    "    args = parse_args()\n",
    "    main(args)"
   ]
  },
  {
   "cell_type": "code",
   "execution_count": null,
   "metadata": {},
   "outputs": [
    {
     "name": "stdout",
     "output_type": "stream",
     "text": [
      "Converted 00_model.ipynb.\n",
      "Converted 01_loss.ipynb.\n",
      "Converted 02_skeleton.ipynb.\n",
      "Converted 03_mocap_dataset.ipynb.\n",
      "Converted 04_h36m_dataset.ipynb.\n",
      "Converted 05_camera.ipynb.\n",
      "Converted 06_quaternion.ipynb.\n",
      "Converted 07_utils.ipynb.\n",
      "Converted 08_generators.ipynb.\n",
      "Converted 09_custom_dataset.ipynb.\n",
      "Converted 10_visualization.ipynb.\n",
      "Converted 11_arguments.ipynb.\n",
      "Converted 12_data_utils.ipynb.\n",
      "Converted 13_prepare_data_2d_custom.ipynb.\n",
      "Converted 14_infer_video.ipynb.\n",
      "Converted 15_prepare_data_COCO.ipynb.\n",
      "Converted 16_pycococreatortools.ipynb.\n",
      "Converted 17_format_qtmdata.ipynb.\n",
      "Converted 18_runningpose_dataset.ipynb.\n",
      "Converted 19_train_detectron2.ipynb.\n",
      "Converted 20_transfer_model.ipynb.\n",
      "Converted 21_prepare_data_3d.ipynb.\n",
      "Converted index.ipynb.\n"
     ]
    }
   ],
   "source": [
    "#hide\n",
    "from nbdev.export import notebook2script; notebook2script()"
   ]
  }
 ],
 "metadata": {
  "kernelspec": {
   "display_name": "Python 3.7.12 ('fastai')",
   "language": "python",
   "name": "python3"
  }
 },
 "nbformat": 4,
 "nbformat_minor": 2
}
