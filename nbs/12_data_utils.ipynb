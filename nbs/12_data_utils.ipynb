{
 "cells": [
  {
   "cell_type": "code",
   "execution_count": null,
   "metadata": {},
   "outputs": [],
   "source": [
    "# default_exp data.data_utils"
   ]
  },
  {
   "cell_type": "markdown",
   "metadata": {},
   "source": [
    "# Data utility\n",
    "> Handles the meta data for different datasets."
   ]
  },
  {
   "cell_type": "code",
   "execution_count": null,
   "metadata": {},
   "outputs": [],
   "source": [
    "#export\n",
    "coco_metadata = {\n",
    "    'layout_name': 'coco',\n",
    "    'num_joints': 17,\n",
    "    'keypoints_symmetry': [\n",
    "        [1, 3, 5, 7, 9, 11, 13, 15],\n",
    "        [2, 4, 6, 8, 10, 12, 14, 16],\n",
    "    ]\n",
    "}"
   ]
  },
  {
   "cell_type": "code",
   "execution_count": null,
   "metadata": {},
   "outputs": [],
   "source": [
    "#export\n",
    "h36m_metadata = {\n",
    "    'layout_name': 'h36m',\n",
    "    'num_joints': 17,\n",
    "    'keypoints_symmetry': [\n",
    "        [4, 5, 6, 11, 12, 13],\n",
    "        [1, 2, 3, 14, 15, 16],\n",
    "    ]\n",
    "}"
   ]
  },
  {
   "cell_type": "code",
   "execution_count": null,
   "metadata": {},
   "outputs": [],
   "source": [
    "#export\n",
    "def suggest_metadata(name):\n",
    "    \"\"\"Returns the metadata for a specific dataset.\"\"\"\n",
    "    names = []\n",
    "    for metadata in [coco_metadata, h36m_metadata]:\n",
    "        if metadata['layout_name'] in name:\n",
    "            return metadata\n",
    "        names.append(metadata['layout_name'])\n",
    "    raise KeyError('Cannot infer keypoint layout from name \"{}\". Tried {}.'.format(name, names))"
   ]
  },
  {
   "cell_type": "code",
   "execution_count": null,
   "metadata": {},
   "outputs": [],
   "source": []
  }
 ],
 "metadata": {
  "kernelspec": {
   "display_name": "Python 3.7.12 ('fastai')",
   "language": "python",
   "name": "python3"
  }
 },
 "nbformat": 4,
 "nbformat_minor": 2
}
