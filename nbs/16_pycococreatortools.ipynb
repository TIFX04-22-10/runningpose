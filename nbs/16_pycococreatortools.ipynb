{
 "cells": [
  {
   "cell_type": "code",
   "execution_count": null,
   "metadata": {},
   "outputs": [],
   "source": [
    "#default_exp data.pycoco.pycococreatortools"
   ]
  },
  {
   "cell_type": "code",
   "execution_count": null,
   "metadata": {},
   "outputs": [],
   "source": [
    "#hide\n",
    "%load_ext autoreload\n",
    "%autoreload 2"
   ]
  },
  {
   "cell_type": "markdown",
   "metadata": {},
   "source": [
    "# Python COCO creator tools\n",
    "> Reworked to fit for keypoint detection but inspiration taken from waspinator @ https://github.com/waspinator/pycococreator"
   ]
  },
  {
   "cell_type": "code",
   "execution_count": null,
   "metadata": {},
   "outputs": [],
   "source": [
    "#export\n",
    "import re\n",
    "import datetime\n",
    "import numpy as np\n",
    "from skimage import measure\n",
    "from PIL import Image\n",
    "from pycocotools import mask\n",
    "\n",
    "convert = lambda text: int(text) if text.isdigit() else text.lower()\n",
    "natural_key = lambda key: [ convert(c) for c in re.split('([0-9]+)', key) ]"
   ]
  },
  {
   "cell_type": "code",
   "execution_count": null,
   "metadata": {},
   "outputs": [],
   "source": [
    "#export\n",
    "def resize_binary_mask(array, new_size):\n",
    "    \"\"\"Returns a resized binary mask array.\"\"\"\n",
    "    image = Image.fromarray(array.astype(np.uint8)*255)\n",
    "    image = image.resize(new_size)\n",
    "    return np.asarray(image).astype(np.bool_)"
   ]
  },
  {
   "cell_type": "code",
   "execution_count": null,
   "metadata": {},
   "outputs": [],
   "source": [
    "#export\n",
    "def close_contour(contour):\n",
    "    \"\"\"Returns a closed contour i.e the last and first element in the countour is equal\"\"\"\n",
    "    if not np.array_equal(contour[0], contour[-1]):\n",
    "        contour = np.vstack((contour, contour[0]))\n",
    "    return contour"
   ]
  },
  {
   "cell_type": "code",
   "execution_count": null,
   "metadata": {},
   "outputs": [],
   "source": [
    "#export \n",
    "def binary_mask_to_polygon(binary_mask, tolerance=0):\n",
    "    \"\"\"\n",
    "    Converts a binary mask to COCO polygon representation.\n",
    "\n",
    "    Args:\n",
    "    - binary_mask: a 2D binary numpy array where '1's represent the object.\n",
    "    - tolerance: Maximum distance from original points of polygon to approximated\n",
    "        polygonal chain. If tolerance is 0, the original coordinate array is returned.\n",
    "    \"\"\"\n",
    "    polygons = []\n",
    "    # pad mask to close contours of shapes which start and end at an edge\n",
    "    padded_binary_mask = np.pad(binary_mask, pad_width=1, mode='constant', constant_values=0)\n",
    "    contours = measure.find_contours(padded_binary_mask, 0.5)\n",
    "    contours = np.subtract(contours, 1)\n",
    "    for contour in contours:\n",
    "        contour = close_contour(contour)\n",
    "        contour = measure.approximate_polygon(contour, tolerance)\n",
    "        if len(contour) < 3:\n",
    "            continue\n",
    "        contour = np.flip(contour, axis=1)\n",
    "        segmentation = contour.ravel().tolist()\n",
    "        # after padding and subtracting 1 we may get -0.5 points in our segmentation \n",
    "        segmentation = [0 if i < 0 else i for i in segmentation]\n",
    "        polygons.append(segmentation)\n",
    "\n",
    "    return polygons"
   ]
  },
  {
   "cell_type": "code",
   "execution_count": null,
   "metadata": {},
   "outputs": [],
   "source": [
    "#export\n",
    "def create_image_info(image_id, file_name, image, \n",
    "                      date_captured=datetime.datetime.utcnow().isoformat(' '), license_id=1, coco_url=\"\", flickr_url=\"\"):\n",
    "    \"\"\"Returns the image information in JSON style format.\"\"\"\n",
    "    image_info = {\n",
    "        \"id\": image_id,\n",
    "        \"file_name\": file_name,\n",
    "        \"width\": image.shape[1],\n",
    "        \"height\": image.shape[0],\n",
    "        \"date_captured\": date_captured,\n",
    "        \"license\": license_id,\n",
    "        \"coco_url\": coco_url,\n",
    "        \"flickr_url\": flickr_url\n",
    "    }\n",
    "\n",
    "    return image_info"
   ]
  },
  {
   "cell_type": "code",
   "execution_count": null,
   "metadata": {},
   "outputs": [],
   "source": [
    "#export\n",
    "def create_annotation_info(annotation_id, image_id, binary_mask, \n",
    "                           bounding_box, image_size=None, tolerance=2, keypoints=None):\n",
    "    \"\"\"Returns annotation information as a dictionary for COCO-keypoints in a JSON style format.\"\"\"\n",
    "    if image_size is not None:\n",
    "        binary_mask = resize_binary_mask(binary_mask, image_size)\n",
    "\n",
    "    binary_mask_encoded = mask.encode(np.asfortranarray(binary_mask.astype(np.uint8)))\n",
    "    area = mask.area(binary_mask_encoded)\n",
    "    \n",
    "    segmentation = binary_mask_to_polygon(binary_mask, tolerance)\n",
    "    if not segmentation:\n",
    "        return None\n",
    "\n",
    "    annotation_info = {\n",
    "       \"segmentation\": segmentation, \n",
    "       \"num_keypoints\": 18,\n",
    "       \"area\": area.tolist(),\n",
    "       \"iscrowd\": 0,\n",
    "       \"keypoints\": keypoints,\n",
    "       \"image_id\": image_id,\n",
    "       \"bbox\": bounding_box.tolist(),\n",
    "       \"category_id\": 1,\n",
    "       \"id\": annotation_id,\n",
    "    }\n",
    "\n",
    "    return annotation_info"
   ]
  },
  {
   "cell_type": "code",
   "execution_count": null,
   "metadata": {},
   "outputs": [
    {
     "name": "stdout",
     "output_type": "stream",
     "text": [
      "Converted 00_model.ipynb.\n",
      "Converted 01_loss.ipynb.\n",
      "Converted 02_skeleton.ipynb.\n",
      "Converted 03_mocap_dataset.ipynb.\n",
      "Converted 04_h36m_dataset.ipynb.\n",
      "Converted 05_camera.ipynb.\n",
      "Converted 06_quaternion.ipynb.\n",
      "Converted 07_utils.ipynb.\n",
      "Converted 08_generators.ipynb.\n",
      "Converted 09_custom_dataset.ipynb.\n",
      "Converted 10_visualization.ipynb.\n",
      "Converted 11_arguments.ipynb.\n",
      "Converted 12_data_utils.ipynb.\n",
      "Converted 13_prepare_data_2d_custom.ipynb.\n",
      "Converted 14_infer_video.ipynb.\n",
      "Converted 15_prepare_data_COCO.ipynb.\n",
      "Converted 16_pycococreatortools.ipynb.\n",
      "Converted index.ipynb.\n"
     ]
    }
   ],
   "source": [
    "from nbdev.export import notebook2script; notebook2script()"
   ]
  }
 ],
 "metadata": {
  "kernelspec": {
   "display_name": "Python 3.9.10 ('poseai')",
   "language": "python",
   "name": "python3"
  }
 },
 "nbformat": 4,
 "nbformat_minor": 2
}
