{
 "cells": [
  {
   "cell_type": "code",
   "execution_count": null,
   "metadata": {},
   "outputs": [],
   "source": [
    "# default_exp data.format_qtmdata"
   ]
  },
  {
   "cell_type": "code",
   "execution_count": null,
   "metadata": {},
   "outputs": [
    {
     "name": "stdout",
     "output_type": "stream",
     "text": [
      "The autoreload extension is already loaded. To reload it, use:\n",
      "  %reload_ext autoreload\n"
     ]
    }
   ],
   "source": [
    "#hide\n",
    "%load_ext autoreload\n",
    "%autoreload 2"
   ]
  },
  {
   "cell_type": "markdown",
   "metadata": {},
   "source": [
    "# Format qtmdata\n",
    ">  Format the Qualisys data preprocessed from Matlab \n",
    "\n",
    "\n",
    "TODO, Would improve if we only import 3D data and throw away 1 dim after formatation."
   ]
  },
  {
   "cell_type": "code",
   "execution_count": null,
   "metadata": {},
   "outputs": [],
   "source": [
    "#export\n",
    "import numpy as np\n",
    "import pandas as pd"
   ]
  },
  {
   "cell_type": "code",
   "execution_count": null,
   "metadata": {},
   "outputs": [],
   "source": [
    "#export\n",
    "# Loads the textfiles\n",
    "labels_np = np.loadtxt('/home/richard/Downloads/Alvin_static/labels_py.txt', dtype = 'str')\n",
    "data_3D = np.loadtxt('/home/richard/Downloads/Alvin_static/Alvin_static_3D_py.txt', \n",
    "                     dtype = 'float', delimiter= ',')"
   ]
  },
  {
   "cell_type": "code",
   "execution_count": null,
   "metadata": {},
   "outputs": [],
   "source": [
    "#export\n",
    "# Reformats the data to a dataframe\n",
    "data_3D = pd.DataFrame(data_3D, index=labels_np).T"
   ]
  },
  {
   "cell_type": "code",
   "execution_count": null,
   "metadata": {},
   "outputs": [],
   "source": [
    "#export\n",
    "# Remove unwanted keypoints \n",
    "data_3D = data_3D.drop(\n",
    "    columns=['HeadL', 'HeadR', 'Chest', 'LThighFrontLow', 'RThighFrontLow', 'LShinFrontHigh', 'RShinFrontHigh', 'LForefoot2', 'LForefoot5', 'RForefoot2', 'RForefoot5', 'LHeelBack', 'RHeelBack', 'LArm', 'RArm']\n",
    ")"
   ]
  },
  {
   "cell_type": "code",
   "execution_count": null,
   "metadata": {},
   "outputs": [],
   "source": [
    "#export\n",
    "# Create \"new\" keypoints by finding the mean between some specific keypoints\n",
    "left_elbow_3D = data_3D.loc[:, ['LElbowOut','LElbowIn']].mean(axis=1)\n",
    "right_elbow_3D = data_3D.loc[:, ['RElbowOut','RElbowIn']].mean(axis=1)\n",
    "\n",
    "left_wrist_3D = data_3D.loc[:, ['LWristIn','LWristOut']].mean(axis=1)\n",
    "right_wrist_3D = data_3D.loc[:, ['RWristOut','RWristIn']].mean(axis=1)\n",
    "\n",
    "left_knee_3D = data_3D.loc[:, ['LKneeOut','LKneeIn']].mean(axis=1)\n",
    "right_knee_3D = data_3D.loc[:, ['RKneeOut','RKneeIn']].mean(axis=1)\n",
    "\n",
    "left_waist_3D = data_3D.loc[:, ['WaistLFront','WaistL']].mean(axis=1)\n",
    "right_waist_3D = data_3D.loc[:, ['WaistRFront','WaistR']].mean(axis=1)"
   ]
  },
  {
   "cell_type": "code",
   "execution_count": null,
   "metadata": {},
   "outputs": [],
   "source": [
    "#export\n",
    "# Remove the keypoints that was taken as a mean and add the new one found above\n",
    "data_3D = data_3D.drop(\n",
    "    columns=['LElbowOut','LElbowIn', 'RElbowOut','RElbowIn', 'LWristIn','LWristOut', 'RWristIn','RWristOut', 'LKneeIn','LKneeOut', 'RKneeIn','RKneeOut', 'WaistLFront','WaistL', 'WaistRFront','WaistR']\n",
    ")\n",
    "\n",
    "data_3D['LElbow'] = left_elbow_3D\n",
    "data_3D['RElbow'] = right_elbow_3D\n",
    "data_3D['LWrist'] = left_wrist_3D\n",
    "data_3D['RWrist'] = right_wrist_3D\n",
    "data_3D['LKnee'] = left_knee_3D\n",
    "data_3D['RKnee'] = right_knee_3D\n",
    "data_3D['LWaist'] = left_waist_3D\n",
    "data_3D['RWaist'] = right_waist_3D"
   ]
  },
  {
   "cell_type": "code",
   "execution_count": null,
   "metadata": {},
   "outputs": [],
   "source": [
    "#export\n",
    "# Convert all the data relative to the root 'WaistBack'\n",
    "data_3D = data_3D.subtract(data_3D['WaistBack'], axis=0)"
   ]
  },
  {
   "cell_type": "code",
   "execution_count": null,
   "metadata": {},
   "outputs": [
    {
     "name": "stdout",
     "output_type": "stream",
     "text": [
      "497.07741288455264\n",
      "0\n",
      "497.0529247474559\n",
      "3\n"
     ]
    }
   ],
   "source": [
    "#export\n",
    "# Scale each frame with a norm vector\n",
    "data_3D_scaled = [] \n",
    "for i in range(0, data_3D.shape[0], 3):\n",
    "    # Calculates the scale factor for each frame\n",
    "    norm_vector = np.sqrt(np.square(data_3D['SpineThoracic2'].iloc[i:i+3]).sum(axis=0))\n",
    "    data_3D_scaled.append(data_3D.iloc[i:i+3].divide(norm_vector))\n",
    "\n",
    "# Reformat to dataframe again after all data has been scaled\n",
    "data_3D = pd.concat(data_3D_scaled, ignore_index=True)"
   ]
  },
  {
   "cell_type": "code",
   "execution_count": null,
   "metadata": {},
   "outputs": [
    {
     "data": {
      "text/html": [
       "<div>\n",
       "<style scoped>\n",
       "    .dataframe tbody tr th:only-of-type {\n",
       "        vertical-align: middle;\n",
       "    }\n",
       "\n",
       "    .dataframe tbody tr th {\n",
       "        vertical-align: top;\n",
       "    }\n",
       "\n",
       "    .dataframe thead th {\n",
       "        text-align: right;\n",
       "    }\n",
       "</style>\n",
       "<table border=\"1\" class=\"dataframe\">\n",
       "  <thead>\n",
       "    <tr style=\"text-align: right;\">\n",
       "      <th></th>\n",
       "      <th>HeadFront</th>\n",
       "      <th>SpineThoracic2</th>\n",
       "      <th>SpineThoracic12</th>\n",
       "      <th>LShoulderTop</th>\n",
       "      <th>LHand2</th>\n",
       "      <th>RShoulderTop</th>\n",
       "      <th>RHand2</th>\n",
       "      <th>WaistBack</th>\n",
       "      <th>LAnkleOut</th>\n",
       "      <th>RAnkleOut</th>\n",
       "      <th>LElbow</th>\n",
       "      <th>RElbow</th>\n",
       "      <th>LWrist</th>\n",
       "      <th>RWrist</th>\n",
       "      <th>LKnee</th>\n",
       "      <th>RKnee</th>\n",
       "      <th>LWaist</th>\n",
       "      <th>RWaist</th>\n",
       "    </tr>\n",
       "  </thead>\n",
       "  <tbody>\n",
       "    <tr>\n",
       "      <th>0</th>\n",
       "      <td>0.484834</td>\n",
       "      <td>-0.036614</td>\n",
       "      <td>-0.090328</td>\n",
       "      <td>0.163355</td>\n",
       "      <td>0.633704</td>\n",
       "      <td>0.150681</td>\n",
       "      <td>0.612379</td>\n",
       "      <td>0.0</td>\n",
       "      <td>0.032792</td>\n",
       "      <td>0.063169</td>\n",
       "      <td>0.127646</td>\n",
       "      <td>0.106623</td>\n",
       "      <td>0.491473</td>\n",
       "      <td>0.486846</td>\n",
       "      <td>0.161041</td>\n",
       "      <td>0.213146</td>\n",
       "      <td>0.302770</td>\n",
       "      <td>0.310012</td>\n",
       "    </tr>\n",
       "    <tr>\n",
       "      <th>1</th>\n",
       "      <td>-0.039410</td>\n",
       "      <td>0.013318</td>\n",
       "      <td>0.002555</td>\n",
       "      <td>0.368715</td>\n",
       "      <td>0.824781</td>\n",
       "      <td>-0.362740</td>\n",
       "      <td>-0.812731</td>\n",
       "      <td>0.0</td>\n",
       "      <td>0.377205</td>\n",
       "      <td>-0.422892</td>\n",
       "      <td>0.615367</td>\n",
       "      <td>-0.584828</td>\n",
       "      <td>0.800006</td>\n",
       "      <td>-0.779526</td>\n",
       "      <td>0.268731</td>\n",
       "      <td>-0.292258</td>\n",
       "      <td>0.285479</td>\n",
       "      <td>-0.300144</td>\n",
       "    </tr>\n",
       "    <tr>\n",
       "      <th>2</th>\n",
       "      <td>1.403604</td>\n",
       "      <td>0.999241</td>\n",
       "      <td>0.356081</td>\n",
       "      <td>0.977313</td>\n",
       "      <td>-0.123361</td>\n",
       "      <td>0.952367</td>\n",
       "      <td>-0.149514</td>\n",
       "      <td>0.0</td>\n",
       "      <td>-1.927263</td>\n",
       "      <td>-1.918092</td>\n",
       "      <td>0.330230</td>\n",
       "      <td>0.299652</td>\n",
       "      <td>-0.026857</td>\n",
       "      <td>-0.042448</td>\n",
       "      <td>-1.085173</td>\n",
       "      <td>-1.074481</td>\n",
       "      <td>-0.006337</td>\n",
       "      <td>-0.005331</td>\n",
       "    </tr>\n",
       "    <tr>\n",
       "      <th>3</th>\n",
       "      <td>0.489083</td>\n",
       "      <td>-0.035409</td>\n",
       "      <td>-0.089930</td>\n",
       "      <td>0.166984</td>\n",
       "      <td>0.634540</td>\n",
       "      <td>0.152096</td>\n",
       "      <td>0.613416</td>\n",
       "      <td>0.0</td>\n",
       "      <td>0.031184</td>\n",
       "      <td>0.063374</td>\n",
       "      <td>0.129765</td>\n",
       "      <td>0.107232</td>\n",
       "      <td>0.493006</td>\n",
       "      <td>0.487171</td>\n",
       "      <td>0.160949</td>\n",
       "      <td>0.214866</td>\n",
       "      <td>0.305199</td>\n",
       "      <td>0.311737</td>\n",
       "    </tr>\n",
       "    <tr>\n",
       "      <th>4</th>\n",
       "      <td>-0.039573</td>\n",
       "      <td>0.012876</td>\n",
       "      <td>0.002736</td>\n",
       "      <td>0.367486</td>\n",
       "      <td>0.821784</td>\n",
       "      <td>-0.363321</td>\n",
       "      <td>-0.811503</td>\n",
       "      <td>0.0</td>\n",
       "      <td>0.379738</td>\n",
       "      <td>-0.423033</td>\n",
       "      <td>0.614391</td>\n",
       "      <td>-0.585089</td>\n",
       "      <td>0.797159</td>\n",
       "      <td>-0.778740</td>\n",
       "      <td>0.268905</td>\n",
       "      <td>-0.292514</td>\n",
       "      <td>0.284708</td>\n",
       "      <td>-0.300934</td>\n",
       "    </tr>\n",
       "    <tr>\n",
       "      <th>5</th>\n",
       "      <td>1.402265</td>\n",
       "      <td>0.999290</td>\n",
       "      <td>0.356099</td>\n",
       "      <td>0.977763</td>\n",
       "      <td>-0.125721</td>\n",
       "      <td>0.952414</td>\n",
       "      <td>-0.150628</td>\n",
       "      <td>0.0</td>\n",
       "      <td>-1.926563</td>\n",
       "      <td>-1.918126</td>\n",
       "      <td>0.330247</td>\n",
       "      <td>0.299767</td>\n",
       "      <td>-0.028468</td>\n",
       "      <td>-0.043054</td>\n",
       "      <td>-1.084945</td>\n",
       "      <td>-1.074664</td>\n",
       "      <td>-0.006237</td>\n",
       "      <td>-0.005030</td>\n",
       "    </tr>\n",
       "  </tbody>\n",
       "</table>\n",
       "</div>"
      ],
      "text/plain": [
       "   HeadFront  SpineThoracic2  SpineThoracic12  LShoulderTop    LHand2  \\\n",
       "0   0.484834       -0.036614        -0.090328      0.163355  0.633704   \n",
       "1  -0.039410        0.013318         0.002555      0.368715  0.824781   \n",
       "2   1.403604        0.999241         0.356081      0.977313 -0.123361   \n",
       "3   0.489083       -0.035409        -0.089930      0.166984  0.634540   \n",
       "4  -0.039573        0.012876         0.002736      0.367486  0.821784   \n",
       "5   1.402265        0.999290         0.356099      0.977763 -0.125721   \n",
       "\n",
       "   RShoulderTop    RHand2  WaistBack  LAnkleOut  RAnkleOut    LElbow  \\\n",
       "0      0.150681  0.612379        0.0   0.032792   0.063169  0.127646   \n",
       "1     -0.362740 -0.812731        0.0   0.377205  -0.422892  0.615367   \n",
       "2      0.952367 -0.149514        0.0  -1.927263  -1.918092  0.330230   \n",
       "3      0.152096  0.613416        0.0   0.031184   0.063374  0.129765   \n",
       "4     -0.363321 -0.811503        0.0   0.379738  -0.423033  0.614391   \n",
       "5      0.952414 -0.150628        0.0  -1.926563  -1.918126  0.330247   \n",
       "\n",
       "     RElbow    LWrist    RWrist     LKnee     RKnee    LWaist    RWaist  \n",
       "0  0.106623  0.491473  0.486846  0.161041  0.213146  0.302770  0.310012  \n",
       "1 -0.584828  0.800006 -0.779526  0.268731 -0.292258  0.285479 -0.300144  \n",
       "2  0.299652 -0.026857 -0.042448 -1.085173 -1.074481 -0.006337 -0.005331  \n",
       "3  0.107232  0.493006  0.487171  0.160949  0.214866  0.305199  0.311737  \n",
       "4 -0.585089  0.797159 -0.778740  0.268905 -0.292514  0.284708 -0.300934  \n",
       "5  0.299767 -0.028468 -0.043054 -1.084945 -1.074664 -0.006237 -0.005030  "
      ]
     },
     "execution_count": null,
     "metadata": {},
     "output_type": "execute_result"
    }
   ],
   "source": [
    "#export\n",
    "data_3D"
   ]
  },
  {
   "cell_type": "code",
   "execution_count": null,
   "metadata": {},
   "outputs": [
    {
     "name": "stdout",
     "output_type": "stream",
     "text": [
      "Converted 00_model.ipynb.\n",
      "Converted 01_loss.ipynb.\n",
      "Converted 02_skeleton.ipynb.\n",
      "Converted 03_mocap_dataset.ipynb.\n",
      "Converted 04_h36m_dataset.ipynb.\n",
      "Converted 05_camera.ipynb.\n",
      "Converted 06_quaternion.ipynb.\n",
      "Converted 07_utils.ipynb.\n",
      "Converted 08_generators.ipynb.\n",
      "Converted 09_custom_dataset.ipynb.\n",
      "Converted 10_visualization.ipynb.\n",
      "Converted 11_arguments.ipynb.\n",
      "Converted 12_data_utils.ipynb.\n",
      "Converted 13_prepare_data_2d_custom.ipynb.\n",
      "Converted 14_infer_video.ipynb.\n",
      "Converted 15_prepare_data_COCO.ipynb.\n",
      "Converted 16_pycococreatortools.ipynb.\n",
      "Converted 17_format_qtmdata.ipynb.\n",
      "Converted index.ipynb.\n"
     ]
    }
   ],
   "source": [
    "from nbdev.export import notebook2script; notebook2script()"
   ]
  },
  {
   "cell_type": "code",
   "execution_count": null,
   "metadata": {},
   "outputs": [],
   "source": []
  }
 ],
 "metadata": {
  "kernelspec": {
   "display_name": "Python 3.7.12 ('fastai')",
   "language": "python",
   "name": "python3"
  }
 },
 "nbformat": 4,
 "nbformat_minor": 2
}
